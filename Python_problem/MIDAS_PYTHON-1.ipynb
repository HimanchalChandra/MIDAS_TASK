{
 "cells": [
  {
   "cell_type": "code",
   "execution_count": null,
   "metadata": {
    "collapsed": true
   },
   "outputs": [],
   "source": [
    "!pip3 install -r requirements.txt\n",
    "import tweepy\n",
    "import jsonlines\n",
    "import pandas as pd\n",
    "import openpyxl\n",
    "\n",
    "consumer_key = \"\"\n",
    "consumer_secret = \"\"\n",
    "access_token = \"\"\n",
    "access_token_secret = \"\""
   ]
  },
  {
   "cell_type": "code",
   "execution_count": 29,
   "metadata": {
    "collapsed": true
   },
   "outputs": [],
   "source": [
    "auth = tweepy.OAuthHandler(consumer_key, consumer_secret)\n",
    "# Setting your access token and secret\n",
    "auth.set_access_token(access_token, access_token_secret)\n",
    "# Creating the API object while passing in auth information\n",
    "api = tweepy.API(auth) "
   ]
  },
  {
   "cell_type": "code",
   "execution_count": 30,
   "metadata": {
    "collapsed": true
   },
   "outputs": [],
   "source": [
    "name = \"@midasIIITD\"\n",
    "# Number of tweets to pull\n",
    "tweets = []\n",
    "# All the tweets will be appended in the tweets list\n",
    "for status in tweepy.Cursor(api.user_timeline, id=name).items():\n",
    "    tweets.append(status._json)"
   ]
  },
  {
   "cell_type": "code",
   "execution_count": 31,
   "metadata": {
    "collapsed": true
   },
   "outputs": [],
   "source": [
    "# Now we are outputing jsonl file named as output in which all the tweets are written and stored \n",
    "with jsonlines.open('output.jsonl', mode='w') as writer:\n",
    "    writer.write(tweets) "
   ]
  },
  {
   "cell_type": "code",
   "execution_count": 32,
   "metadata": {
    "collapsed": true
   },
   "outputs": [],
   "source": [
    "''' In this block of code, I was opening my jsonl file, and creating varies columns of required data and apending the data in\n",
    "my_demo_list and then looping the whole process to fetch data from all the tweets. One important thing in this is that I had used\n",
    "Try and except case fetching images count in the tweets, and finally I am printing all the required data through pandas\n",
    "dataframe'''\n",
    "my_demo_list = []\n",
    "\n",
    "with jsonlines.open('output.jsonl') as all_data:  \n",
    "    for x in all_data:\n",
    "        for i in x:\n",
    "            tweet_id = i['id']\n",
    "            whole_tweet = i['text']\n",
    "            favorite_count = i['favorite_count']\n",
    "            retweet_count = i['retweet_count']\n",
    "            created_at = i['created_at']\n",
    "            image_list = []\n",
    "            try:\n",
    "                for media in i['entities']['media']:\n",
    "                    image_list.append(media['media_url'])\n",
    "                    image = len(image_list)\n",
    "            except:\n",
    "                image = \"None\"        \n",
    "\n",
    "\n",
    "            del image_list[:]\n",
    "\n",
    "\n",
    "            my_demo_list.append({'tweet_id': str(tweet_id),\n",
    "                             'favorite_count': int(favorite_count),\n",
    "                             'retweet_count': int(retweet_count),\n",
    "                             'tweet_text': whole_tweet,\n",
    "                             'created_at': created_at,\n",
    "                             'image_count': image,\n",
    "                            })\n",
    "            tweet_json = pd.DataFrame(my_demo_list, columns = ['tweet_id', 'favorite_count', \n",
    "                                                       'retweet_count','tweet_text','created_at','image_count'])"
   ]
  },
  {
   "cell_type": "code",
   "execution_count": 37,
   "metadata": {
    "collapsed": true,
    "scrolled": true
   },
   "outputs": [],
   "source": [
    "# Here I am printing the dataframe\n",
    "print(tweet_json)\n",
    "# At last I am outputing an xlsx file of the required dataframe\n",
    "tweet_json.to_excel(\"output.xlsx\")"
   ]
  }
 ],
 "metadata": {
  "kernelspec": {
   "display_name": "Python 3",
   "language": "python",
   "name": "python3"
  },
  "language_info": {
   "codemirror_mode": {
    "name": "ipython",
    "version": 3
   },
   "file_extension": ".py",
   "mimetype": "text/x-python",
   "name": "python",
   "nbconvert_exporter": "python",
   "pygments_lexer": "ipython3",
   "version": "3.6.3"
  }
 },
 "nbformat": 4,
 "nbformat_minor": 2
}
